{
 "cells": [
  {
   "cell_type": "markdown",
   "metadata": {},
   "source": [
    "# NAME-SOUMYAJIT MONDAL / ASSIGNMENT-2\n",
    "\n",
    "# Questions 1:\n",
    "\n",
    "Create an empty list. Accept 10 numbers from the user and append to it the list if it is an even number."
   ]
  },
  {
   "cell_type": "code",
   "execution_count": 7,
   "metadata": {},
   "outputs": [
    {
     "name": "stdout",
     "output_type": "stream",
     "text": [
      "10\n",
      "11\n",
      "12\n",
      "13\n",
      "14\n",
      "15\n",
      "16\n",
      "17\n",
      "18\n",
      "19\n",
      "[10, 12, 14, 16, 18]\n"
     ]
    }
   ],
   "source": [
    "my_list = []\n",
    "# print(my_list)\n",
    "for i in range(10):\n",
    "    i = int(input())\n",
    "    if (i % 2) == 0:\n",
    "        my_list.append(i)\n",
    "    else:\n",
    "        continue\n",
    "\n",
    "print(my_list)"
   ]
  },
  {
   "cell_type": "markdown",
   "metadata": {},
   "source": [
    "# Questions 2:\n",
    "\n",
    "Create a notebook on LIST COMPREHENSION. This exercise is to put you in a Self learning mode"
   ]
  },
  {
   "cell_type": "code",
   "execution_count": 13,
   "metadata": {},
   "outputs": [
    {
     "name": "stdout",
     "output_type": "stream",
     "text": [
      "[1, 2, 3, 4, 5, 6, 7, 8, 9, 10]\n",
      "[11, 12, 13, 14, 15, 16, 17, 18]\n",
      "[11, 12, 13, 14, 15, 16, 17, 18, 20]\n",
      "[11, 12, 13, 14, 15, 16, 17, 18, 19, 20]\n",
      "[1, 2, 3, 4, 5, 6, 7, 8, 9, 10, 11, 12, 13, 14, 15, 16, 17, 18, 19, 20]\n",
      "[1, 2, 3, 4, 5, 6, 7, 8, 9, 10, 11, 12, 13, 14, 15, 16, 17, 18, 19]\n"
     ]
    }
   ],
   "source": [
    "lst=[1,2,3,4,5,6,7,8,9,10]\n",
    "print(lst)\n",
    "list1=[i for i in range(11,19)]\n",
    "print(list1)\n",
    "#list.append(x)\n",
    "list1.append(20)\n",
    "print(list1)\n",
    "#list.insert(i,x)\n",
    "list1.insert(8,19)\n",
    "print(list1)\n",
    "#list.extend(iterable)\n",
    "lst.extend(list1)\n",
    "print(lst)\n",
    "#list.remove(x)\n",
    "lst.remove(20)\n",
    "print(lst)"
   ]
  },
  {
   "cell_type": "markdown",
   "metadata": {},
   "source": [
    "# Questions 3:\n",
    "\n",
    "You have seen in the videos how powerful dictionary data structure is.\n",
    "In this assignment, given a number n, you have to write a program that generates a dictionary d which\n",
    "contains (i, i*i), where i is from 1 to n (both included).\n",
    "Then you have to just print this dictionary d.\n",
    "Example:\n",
    "Input: 4\n",
    "will give output as\n",
    "{1: 1, 2: 4, 3: 9, 4: 16}\n",
    "Input Format:\n",
    "Take the number n in a single line.\n",
    "Output Format:\n",
    "Print the dictionary d in a single line."
   ]
  },
  {
   "cell_type": "code",
   "execution_count": 14,
   "metadata": {},
   "outputs": [
    {
     "name": "stdout",
     "output_type": "stream",
     "text": [
      "8\n",
      "{1: 1, 2: 4, 3: 9, 4: 16, 5: 25, 6: 36, 7: 49, 8: 64}\n"
     ]
    }
   ],
   "source": [
    "my_dictionary = {}\n",
    "n = int(input())\n",
    "my_dictionary = dict()\n",
    "\n",
    "for i in range(1, n+1): # star and end value\n",
    "    my_dictionary[i] = i*i\n",
    "\n",
    "print(my_dictionary)\n"
   ]
  },
  {
   "cell_type": "markdown",
   "metadata": {},
   "source": [
    "# Questions 4:\n",
    "\n",
    "There is a robot which wants to go the charging point to charge itself.\n",
    "The robot moves in a 2-D plane from the original point (0,0). The robot can\n",
    "move toward UP, DOWN, LEFT and RIGHT with given steps.\n",
    "The trace of robot movement is shown as the following:\n",
    "UP 5\n",
    "DOWN 3\n",
    "LEFT 3\n",
    "RIGHT 2\n",
    "Then, the output of the program should be:\n",
    "2\n",
    "The numbers after the direction are steps.\n",
    "Write a program to compute the distance between the current position after\n",
    "a sequence of movement and original point. If the distance is a float, then\n",
    "just print the nearest integer (use round() function for that and then convert\n",
    "it into an integer).\n",
    "Input Format:\n",
    "The first line of the input contains a number n which implies the number of\n",
    "directions to be given.\n",
    "The next n lines contain the direction and the step separated by a space.\n",
    "Output Format:\n",
    "Print the distance from the original position to the current position.\n"
   ]
  },
  {
   "cell_type": "code",
   "execution_count": 16,
   "metadata": {},
   "outputs": [
    {
     "name": "stdout",
     "output_type": "stream",
     "text": [
      "4\n",
      "UP 5\n",
      "DOWN 3\n",
      "LEFT 3\n",
      "RIGHT 2\n",
      "2\n"
     ]
    }
   ],
   "source": [
    "position = {\"x\": 0, \"y\": 0}\n",
    "\n",
    "fixNumber = int(input())\n",
    "for i in range(fixNumber):\n",
    "\n",
    "    inputValue = input()\n",
    "    if not inputValue:\n",
    "        break\n",
    "\n",
    "    # print(inputValue)\n",
    "    direction, steps = inputValue.split()\n",
    "    # print(direction)\n",
    "\n",
    "    if direction == \"UP\":\n",
    "        position[\"y\"] += int(steps)\n",
    "\n",
    "    elif direction == \"DOWN\":\n",
    "        position[\"y\"] -= int(steps)\n",
    "\n",
    "    elif direction == \"LEFT\":\n",
    "        position[\"x\"] -= int(steps)\n",
    "\n",
    "    elif direction == \"RIGHT\":\n",
    "        position[\"x\"] += int(steps)\n",
    "\n",
    "print(int(round((position[\"x\"] ** 2 + position[\"y\"] ** 2) ** 0.5)))  # Formula (x2 + y2)2\n",
    "\n"
   ]
  }
 ],
 "metadata": {
  "kernelspec": {
   "display_name": "Python 3",
   "language": "python",
   "name": "python3"
  },
  "language_info": {
   "codemirror_mode": {
    "name": "ipython",
    "version": 3
   },
   "file_extension": ".py",
   "mimetype": "text/x-python",
   "name": "python",
   "nbconvert_exporter": "python",
   "pygments_lexer": "ipython3",
   "version": "3.8.3"
  }
 },
 "nbformat": 4,
 "nbformat_minor": 4
}
